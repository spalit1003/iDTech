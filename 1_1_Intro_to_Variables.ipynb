{
  "nbformat": 4,
  "nbformat_minor": 0,
  "metadata": {
    "colab": {
      "name": "1.1_Intro_to_Variables",
      "provenance": [],
      "include_colab_link": true
    },
    "kernelspec": {
      "name": "python3",
      "display_name": "Python 3"
    },
    "language_info": {
      "name": "python"
    }
  },
  "cells": [
    {
      "cell_type": "markdown",
      "metadata": {
        "id": "view-in-github",
        "colab_type": "text"
      },
      "source": [
        "<a href=\"https://colab.research.google.com/github/spalit1003/iDTech/blob/main/1_1_Intro_to_Variables.ipynb\" target=\"_parent\"><img src=\"https://colab.research.google.com/assets/colab-badge.svg\" alt=\"Open In Colab\"/></a>"
      ]
    },
    {
      "cell_type": "markdown",
      "metadata": {
        "id": "57v3TxY5YkTh"
      },
      "source": [
        "#Intro to Variables#\n",
        " <img src = \"https://i.imgur.com/tbQIc9Z.png\" width = 200px align=\"right\" margin=30px>\n",
        "\n",
        "\n",
        "**Variables** are like boxes; they hold important information, or data. A variable can hold different data types, such as numbers or words.\n",
        "\n",
        "Let's say you wanted to keep track of the amount of donuts that a pig has eaten. You could create a variable called **number_of_dounts**.\n",
        "\n",
        "\n",
        "\n",
        "After naming a variable, you can give it a value, which is like filling the chest. This is called **initializing**.\n",
        "\n",
        "If your pig has eaten three donuts then you would initialize your number_of_donuts variable to three, like in the cell below."
      ]
    },
    {
      "cell_type": "code",
      "metadata": {
        "id": "LrasHDjTTTfR"
      },
      "source": [
        "number_of_donuts = 3"
      ],
      "execution_count": null,
      "outputs": []
    },
    {
      "cell_type": "markdown",
      "metadata": {
        "id": "JxKoNFg6ZP7t"
      },
      "source": [
        "In order to see what is in the variable called number_of_donuts, you will need to print it.\n",
        "\n",
        "In Python, in order to print a variable, you use the print function. Run the cell below to print out the contents of number_of_donuts."
      ]
    },
    {
      "cell_type": "code",
      "metadata": {
        "id": "iq6mnhdvZidZ"
      },
      "source": [
        "print(number_of_donuts)"
      ],
      "execution_count": null,
      "outputs": []
    },
    {
      "cell_type": "markdown",
      "metadata": {
        "id": "EtklKNP2ZhwG"
      },
      "source": [
        "Try changing the number of donuts in the cell below"
      ]
    },
    {
      "cell_type": "code",
      "metadata": {
        "id": "LAepVdUpZ1OX",
        "colab": {
          "base_uri": "https://localhost:8080/"
        },
        "outputId": "45c03824-226a-4d07-9c71-cac2de60a34e"
      },
      "source": [
        "# Change the value of the number of donuts here\n",
        "number_of_donuts = 6\n",
        "# Add code to print the updated number of donuts\n",
        "print(number_of_donuts)"
      ],
      "execution_count": 5,
      "outputs": [
        {
          "output_type": "stream",
          "name": "stdout",
          "text": [
            "6\n"
          ]
        }
      ]
    },
    {
      "cell_type": "markdown",
      "metadata": {
        "id": "IU873SdEaGsl"
      },
      "source": [
        "##Other Variable Types##\n",
        "\n",
        "A whole number in python is called an **int** short for integer. There are a lot of other variable types, but for now we are going to focus on two other common ones: Strings and booleans.\n",
        "\n",
        "Variables can hold data besides numbers, including words. Programmers refer to variables holding words as **strings**.\n",
        "\n",
        "Create a string variable to hold the pigs name below. Python will make it's best guess about what kind of variable you are making based on what the value is."
      ]
    },
    {
      "cell_type": "code",
      "metadata": {
        "id": "DPn1oKdmaonr"
      },
      "source": [
        "# Create a string variable to keep track of the pigs name\n",
        "pig_name = \"Kepler\"\n",
        "# Print the pig's name\n",
        "print(pig_name)"
      ],
      "execution_count": null,
      "outputs": []
    },
    {
      "cell_type": "markdown",
      "metadata": {
        "id": "SqvPbHXIa8-J"
      },
      "source": [
        "Try changing the pigs name to something you choose and then print it out below."
      ]
    },
    {
      "cell_type": "code",
      "metadata": {
        "id": "DPeDg6fxbBRy",
        "colab": {
          "base_uri": "https://localhost:8080/"
        },
        "outputId": "a0159879-a754-45a5-f61c-b984d91cb0dc"
      },
      "source": [
        "# Update the pig's name\n",
        "pig_name = \"Peppa\"\n",
        "# Print out the pig's updated name\n",
        "print(pig_name)"
      ],
      "execution_count": 6,
      "outputs": [
        {
          "output_type": "stream",
          "name": "stdout",
          "text": [
            "Peppa\n"
          ]
        }
      ]
    },
    {
      "cell_type": "markdown",
      "metadata": {
        "id": "K2F9lYG3bIqN"
      },
      "source": [
        "You can also use variables to show if something is true or false; this type of data is called a boolean.\n",
        "\n",
        "In the cell below create a variable to keep track of if donuts exist"
      ]
    },
    {
      "cell_type": "code",
      "metadata": {
        "id": "IfQZXzLabaph"
      },
      "source": [
        "# Create the variable for donuts exist\n",
        "donuts_exist = True\n",
        "# Print the value of donuts exist\n",
        "print(donuts_exist)"
      ],
      "execution_count": null,
      "outputs": []
    },
    {
      "cell_type": "markdown",
      "metadata": {
        "id": "b1eBCRctbn0k"
      },
      "source": [
        "Let's pretend the pig ate all the donuts. Can you update the donuts_exist variable to False?"
      ]
    },
    {
      "cell_type": "code",
      "metadata": {
        "id": "QiKrs42RbujX"
      },
      "source": [
        "# Update and print out the donuts_exist variable.\n",
        "\n",
        "# See what donuts_exist equals now\n",
        "print(donuts_exist)"
      ],
      "execution_count": null,
      "outputs": []
    },
    {
      "cell_type": "markdown",
      "metadata": {
        "id": "PG0rRJYTbzhS"
      },
      "source": [
        "###Now it's your turn!###\n",
        "\n",
        "\n",
        "Create a short program that uses three variables to keep track of some information. For example create variables to keep track of your favorite superhero's name, age, and if they are immortal or not."
      ]
    },
    {
      "cell_type": "code",
      "metadata": {
        "id": "DIGdw8iDcLE1"
      },
      "source": [
        "# Create your program here:"
      ],
      "execution_count": null,
      "outputs": []
    }
  ]
}