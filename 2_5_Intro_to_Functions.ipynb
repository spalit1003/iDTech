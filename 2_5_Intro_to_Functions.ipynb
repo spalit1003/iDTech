{
  "nbformat": 4,
  "nbformat_minor": 0,
  "metadata": {
    "colab": {
      "name": "2.5_Intro_to_Functions.ipynb",
      "provenance": [],
      "include_colab_link": true
    },
    "kernelspec": {
      "name": "python3",
      "display_name": "Python 3"
    },
    "language_info": {
      "name": "python"
    }
  },
  "cells": [
    {
      "cell_type": "markdown",
      "metadata": {
        "id": "view-in-github",
        "colab_type": "text"
      },
      "source": [
        "<a href=\"https://colab.research.google.com/github/spalit1003/iDTech/blob/main/2_5_Intro_to_Functions.ipynb\" target=\"_parent\"><img src=\"https://colab.research.google.com/assets/colab-badge.svg\" alt=\"Open In Colab\"/></a>"
      ]
    },
    {
      "cell_type": "markdown",
      "metadata": {
        "id": "BgWYX-mVVT7p"
      },
      "source": [
        "#Function Introduction\n",
        "\n",
        "\n",
        "There will be times when you want to perform a series of actions, and instead of writing those statements over and over every time, you can use a function!\n",
        "\n",
        "Function declarations look like this:\n",
        "\n",
        "\n",
        "\n",
        "```\n",
        " def function_name():\n",
        "      #Code to run goes here.\n",
        "      \n",
        "```\n",
        "\n",
        "1. Fill in the code for the body of the function so that it generates a random number between 0 and 2, and prints the results.\n"
      ]
    },
    {
      "cell_type": "code",
      "metadata": {
        "id": "mPW-NxFAVOCn"
      },
      "source": [
        "import random\n",
        "\n",
        "def random_number():\n",
        "  # Add code here\n",
        "  print (random.randint(0, 2))"
      ],
      "execution_count": 5,
      "outputs": []
    },
    {
      "cell_type": "markdown",
      "metadata": {
        "id": "kEHTUH9WV1ko"
      },
      "source": [
        "##Call a Function\n",
        "\n",
        "To Call a function put the name of it followed by opening and closing parentheses wherever you want it to run in your program.\n",
        "\n",
        "2. Run the cell below to call your function."
      ]
    },
    {
      "cell_type": "code",
      "metadata": {
        "id": "dhV9zk7SV_6d",
        "outputId": "182dd7d2-dc07-4453-b43b-0af4fbc66514",
        "colab": {
          "base_uri": "https://localhost:8080/"
        }
      },
      "source": [
        "random_number()"
      ],
      "execution_count": 7,
      "outputs": [
        {
          "output_type": "stream",
          "name": "stdout",
          "text": [
            "2\n"
          ]
        }
      ]
    },
    {
      "cell_type": "markdown",
      "metadata": {
        "id": "raAb9hL0WDUX"
      },
      "source": [
        "##Return Values\n",
        "\n",
        "You can have a function **return** a value, and you can use that value to pull information out of the function after it runs.\n",
        "\n",
        "\n",
        "3. Looking at the same function as before, update it so that instead of printing rand, it returns rand."
      ]
    },
    {
      "cell_type": "code",
      "metadata": {
        "id": "70R5bA7lWJ5J",
        "outputId": "84077ef1-f4a3-413c-a06a-fd86bbabf32e",
        "colab": {
          "base_uri": "https://localhost:8080/"
        }
      },
      "source": [
        "def random_number():\n",
        "  rand = random.randrange(0,2)\n",
        "  # Update the code here:\n",
        "  return (rand)\n",
        "\n",
        "\n",
        "a_number = random_number()\n",
        "print(a_number)"
      ],
      "execution_count": 9,
      "outputs": [
        {
          "output_type": "stream",
          "name": "stdout",
          "text": [
            "1\n"
          ]
        }
      ]
    },
    {
      "cell_type": "markdown",
      "metadata": {
        "id": "ZEnlopprWnRY"
      },
      "source": [
        "##Arguments\n",
        "\n",
        "An **argument** is a way for you to provide more information to a function. The function can then use that information as it runs, like a variable.\n",
        "\n",
        "Arguments go inside the parentheses after a function. You can add as many arguments as you want, as long as they are separated by commas.\n",
        "\n",
        "4. Run the code below to see how an argument could work in your random_number function."
      ]
    },
    {
      "cell_type": "code",
      "metadata": {
        "id": "Qh0bsHmCW6UZ",
        "outputId": "79f4ad41-5940-4a7d-96c6-b3c66948c828",
        "colab": {
          "base_uri": "https://localhost:8080/"
        }
      },
      "source": [
        "def random_number(max_int):\n",
        "    rand = random.randrange(0, max_int)\n",
        "    return rand\n",
        "\n",
        "a_number = random_number(5)\n",
        "print(a_number)"
      ],
      "execution_count": 14,
      "outputs": [
        {
          "output_type": "stream",
          "name": "stdout",
          "text": [
            "3\n"
          ]
        }
      ]
    },
    {
      "cell_type": "markdown",
      "metadata": {
        "id": "odHUIRV1W-_L"
      },
      "source": [
        "###Try this!\n",
        "\n",
        "Can you create a function that takes two arguments and generates a random number in between those two numbers?"
      ]
    },
    {
      "cell_type": "code",
      "metadata": {
        "id": "1_2rlrn3XNeS",
        "outputId": "e4ffb7da-f4c8-4cf3-d8a3-936b6d5b32ba",
        "colab": {
          "base_uri": "https://localhost:8080/"
        }
      },
      "source": [
        "# Add your code here:\n",
        "def random_number(min_int, max_int):\n",
        "  rand = random.randrange(min_int, max_int)\n",
        "  return rand\n",
        "\n",
        "# Test using this code\n",
        "a_number = random_number(5, 10)\n",
        "print(a_number)"
      ],
      "execution_count": 15,
      "outputs": [
        {
          "output_type": "stream",
          "name": "stdout",
          "text": [
            "8\n"
          ]
        }
      ]
    },
    {
      "cell_type": "markdown",
      "metadata": {
        "id": "hwEjy2HeXU_2"
      },
      "source": [
        "<details>\n",
        "<summary> Click here for one example</summary>\n",
        "\n",
        "```\n",
        "def random_number(min_int, max_int):\n",
        "  rand = random.randrange(min_int, max_int):\n",
        "  return rand\n",
        "\n",
        "```\n",
        "\n",
        "</details>"
      ]
    }
  ]
}