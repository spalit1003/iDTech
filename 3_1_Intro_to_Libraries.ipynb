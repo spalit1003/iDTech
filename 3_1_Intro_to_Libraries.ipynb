{
  "nbformat": 4,
  "nbformat_minor": 0,
  "metadata": {
    "colab": {
      "name": "3.1_Intro_to_Libraries.ipynb",
      "provenance": [],
      "toc_visible": true,
      "include_colab_link": true
    },
    "kernelspec": {
      "name": "python3",
      "display_name": "Python 3"
    },
    "language_info": {
      "name": "python"
    }
  },
  "cells": [
    {
      "cell_type": "markdown",
      "metadata": {
        "id": "view-in-github",
        "colab_type": "text"
      },
      "source": [
        "<a href=\"https://colab.research.google.com/github/spalit1003/iDTech/blob/main/3_1_Intro_to_Libraries.ipynb\" target=\"_parent\"><img src=\"https://colab.research.google.com/assets/colab-badge.svg\" alt=\"Open In Colab\"/></a>"
      ]
    },
    {
      "cell_type": "markdown",
      "metadata": {
        "id": "kCY1BR3GtehN"
      },
      "source": [
        "#Libraries\n",
        "\n",
        "**Libraries** in programming languages are collections of prewritten code that users can use to optimize a task.\n",
        "\n",
        "There are countless libraries created for python, but two common ones used in Machine Learning are **Matplotlib** and **NumPy**.\n",
        "NumPy divides the data and manipulates it easily. Matplotlib visualizes data and the machine learning changes.\n",
        "\n"
      ]
    },
    {
      "cell_type": "markdown",
      "metadata": {
        "id": "es-Ykq2c6pUT"
      },
      "source": [
        "##NumPy\n",
        "\n",
        "NumPy introduces many functions that help with large datasets. **NumPy** is a library used to make very powerful arrays.\n",
        "\n",
        "Python lists can't be used because in order to apply a function, a loop is needed to go through every value in the list. A NumPy array can increase the value of all the elements at once.\n",
        "\n",
        "Remember when you we're learning about lists? If you wanted to mutiply each element by 2 you needed to use a for loop.\n",
        "\n",
        "For NumPy arrays, however, the elements can all be multiplied by 2 simultaneously.\n",
        "\n",
        "Machine learning uses many operations on arrays of data. These data sets often contain thousands of numbers and to iterate through every single value one at a time would be difficult and lengthy. NumPy simplifies all of this.\n",
        "\n",
        "The code below loads NumPy into your program.\n",
        "\n",
        "The NumPy library is renamed to make it quicker to access using the  as  keyword. The code above renames the library to “np;” when calling NumPy in your program, refer to it as \"np.\"\n",
        "\n",
        "1. Run the cell below to import numpy."
      ]
    },
    {
      "cell_type": "code",
      "metadata": {
        "id": "Yfhah6Ottatt"
      },
      "source": [
        "import numpy as np"
      ],
      "execution_count": 11,
      "outputs": []
    },
    {
      "cell_type": "markdown",
      "metadata": {
        "id": "NJaUyW5rup3B"
      },
      "source": [
        "2. In the cell below, add code to print out the numpy array called array."
      ]
    },
    {
      "cell_type": "code",
      "metadata": {
        "id": "c-oHyNk0uz7l",
        "outputId": "85a6548b-b7a9-48ea-bb98-476f2a2f8e8a",
        "colab": {
          "base_uri": "https://localhost:8080/"
        }
      },
      "source": [
        "# Create the array\n",
        "array = np.array([])\n",
        "\n",
        "# Add your code here:\n",
        "print(array)"
      ],
      "execution_count": 12,
      "outputs": [
        {
          "output_type": "stream",
          "name": "stdout",
          "text": [
            "[]\n"
          ]
        }
      ]
    },
    {
      "cell_type": "markdown",
      "metadata": {
        "id": "UNlhO8n0u8WB"
      },
      "source": [
        "The empty angled brackets ( [ ] ) represent an empty array. The starting array is going to be empty.\n",
        "\n",
        "Empty data is kinda boring, so next you'll add some values.\n",
        "\n",
        "3. Use the cell below to update your array. If you want to add different data you can.\n",
        "\n",
        "4. Print the array."
      ]
    },
    {
      "cell_type": "code",
      "metadata": {
        "id": "wgbXMY7YvCaU",
        "outputId": "903ce091-2045-4712-c7fb-0f3e99bbafe4",
        "colab": {
          "base_uri": "https://localhost:8080/"
        }
      },
      "source": [
        "# Add data to the array\n",
        "array = np.array([1,2,3,4])\n",
        "\n",
        "# Add your code to print the array here:\n",
        "print(array)"
      ],
      "execution_count": 13,
      "outputs": [
        {
          "output_type": "stream",
          "name": "stdout",
          "text": [
            "[1 2 3 4]\n"
          ]
        }
      ]
    },
    {
      "cell_type": "markdown",
      "metadata": {
        "id": "gmXaeservdea"
      },
      "source": [
        "###Shape\n",
        "\n",
        "The size of a NumPy array, also called its shape, is important for some functions you'll use for machine learning.\n",
        "\n",
        "The shape of a NumPy array reveals how many values are in each dimension of the array.\n",
        "\n",
        "Knowing the size of data tells you how many different data points exist in the array. With machine learning algorithms, these sizes must be known in order for most of the algorithms to work.\n",
        "\n",
        "1. Run the cell below to check the shape of your array."
      ]
    },
    {
      "cell_type": "code",
      "metadata": {
        "id": "v1TOygSrvlkt",
        "outputId": "6f7f3935-f832-4d25-abfe-6a5b334eaf9e",
        "colab": {
          "base_uri": "https://localhost:8080/"
        }
      },
      "source": [
        "print(array.shape)"
      ],
      "execution_count": 14,
      "outputs": [
        {
          "output_type": "stream",
          "name": "stdout",
          "text": [
            "(4,)\n"
          ]
        }
      ]
    },
    {
      "cell_type": "markdown",
      "metadata": {
        "id": "O8tLFu2ZvvNi"
      },
      "source": [
        "This calls the shape property of NumPy arrays and lets you see the size of the array.\n",
        "\n",
        "After running the code above, the output is  `(4, )` — this means there are four individual values inside the array."
      ]
    },
    {
      "cell_type": "markdown",
      "metadata": {
        "id": "kFxTumQBvzLr"
      },
      "source": [
        "###Multidimensional Arrays\n",
        "\n",
        "\n",
        "Next, you'll make this a two-dimensional array.\n",
        "\n",
        "1. Use the cell below to add a two dimensional array.\n",
        "2. Add code to print out the shape of the array."
      ]
    },
    {
      "cell_type": "code",
      "metadata": {
        "id": "5yfzljh3wEog",
        "outputId": "34f633c4-ebc8-480e-d8e7-9c106700fc0a",
        "colab": {
          "base_uri": "https://localhost:8080/"
        }
      },
      "source": [
        "# Create the 2-d array\n",
        "twod_array = np.array([[1,2], [3, 4]])\n",
        "\n",
        "# Add your code to print the shape here:\n",
        "print(twod_array.shape)"
      ],
      "execution_count": 15,
      "outputs": [
        {
          "output_type": "stream",
          "name": "stdout",
          "text": [
            "(2, 2)\n"
          ]
        }
      ]
    },
    {
      "cell_type": "markdown",
      "metadata": {
        "id": "4TfK1Gk3wg3a"
      },
      "source": [
        "You've just created an array of arrays! This means your first array value is the array  `[1,2] ` and the second array value is the array  `[3,4]` .\n",
        "\n",
        "The size will be ` (2,2)` , which is read as two sets of two values. There are two array values each with two values.\n",
        "\n",
        "In the previous example, the shape was `(4, )` , which is read as just four array values."
      ]
    },
    {
      "cell_type": "markdown",
      "metadata": {
        "id": "xhM0geYnwnTl"
      },
      "source": [
        "####Now it's your turn!\n",
        "\n",
        "Can you create an array that has shape `(3,4)`?"
      ]
    },
    {
      "cell_type": "code",
      "metadata": {
        "id": "4E_Y2sb4w27s",
        "outputId": "f89f00f0-b538-45f4-e10b-a5020f743376",
        "colab": {
          "base_uri": "https://localhost:8080/"
        }
      },
      "source": [
        "# Create your array here:\n",
        "my_array = np.array([[1,2,3,4], [5, 6, 7,8], [9,10,11,12]])\n",
        "#print(my_array.shape)\n",
        "\n",
        "# Check that the shape is correct\n",
        "print(my_array.shape == (3,4))"
      ],
      "execution_count": 16,
      "outputs": [
        {
          "output_type": "stream",
          "name": "stdout",
          "text": [
            "True\n"
          ]
        }
      ]
    },
    {
      "cell_type": "markdown",
      "metadata": {
        "id": "_MqdIohYxzUx"
      },
      "source": [
        "###Array Arithmetic\n",
        "\n",
        "Now that you can create arrays, let's see what you can do with them!\n",
        "\n",
        "1. Create two lists and fill them with all 5 ones.\n",
        "2. Run the cell to add the lists together"
      ]
    },
    {
      "cell_type": "code",
      "metadata": {
        "id": "4b47eRcSyA4I",
        "outputId": "0630afed-2663-4dca-f4f4-99ed12b8464b",
        "colab": {
          "base_uri": "https://localhost:8080/"
        }
      },
      "source": [
        "# Create the lists here\n",
        "num1 = [1,1,1,1,1]\n",
        "num2 = [1,1,1,1,1]\n",
        "# Add the lists together\n",
        "num1+num2"
      ],
      "execution_count": null,
      "outputs": [
        {
          "output_type": "execute_result",
          "data": {
            "text/plain": [
              "[1, 1, 1, 1, 1, 1, 1, 1, 1, 1]"
            ]
          },
          "metadata": {},
          "execution_count": 12
        }
      ]
    },
    {
      "cell_type": "markdown",
      "metadata": {
        "id": "0HpiovvIyJ9U"
      },
      "source": [
        "You should see 10 ones print out. When adding lists, Python joins them together.\n",
        "\n",
        "Rather than extending the list, sometimes you might need to add values in the array together. In the previous example, how would you get the result ` [2, 2, 2, 2, 2]` ?\n",
        "\n",
        "To accomplish this, you'll need a for loop. You can use a for loop to access each index in the array. To loop through all the values in the array you'll need to use  `len(num1) `.\n",
        "\n",
        "You'll also need a third new array to hold the new sums. ` arrayName.append(value)  `adds value to the array.\n",
        "\n",
        "####Try this!\n",
        "\n",
        "Can you create the for loop to add the two lists elements together?\n"
      ]
    },
    {
      "cell_type": "code",
      "metadata": {
        "id": "5um3QHJXygEv",
        "outputId": "a41a00ef-2887-4729-e2bc-347720b42ae6",
        "colab": {
          "base_uri": "https://localhost:8080/"
        }
      },
      "source": [
        "num1 = [1, 1, 1, 1, 1]\n",
        "num2 = [1, 1, 1, 1, 1]\n",
        "# Use this list to hold your solution\n",
        "num3 = [ ]\n",
        "# Add your code here to add the elements of the list together\n",
        "for i in range(len(num1)):\n",
        "  num3.append(num1[i]+num2[i])\n",
        "\n",
        "print(num3)\n",
        "\n",
        "# Use this to check if your answer is correct\n",
        "print(num3 == [2,2,2,2,2])"
      ],
      "execution_count": null,
      "outputs": [
        {
          "output_type": "stream",
          "name": "stdout",
          "text": [
            "[2, 2, 2, 2, 2]\n",
            "True\n"
          ]
        }
      ]
    },
    {
      "cell_type": "markdown",
      "metadata": {
        "id": "Xwb3TkZ3y3BZ"
      },
      "source": [
        "###Arithmetic with NumPy Arrays\n",
        "\n",
        "While this method works, NumPy arrays let you do the same thing in one line.\n",
        "\n",
        "1. Run the cell to see the same result using numpy arrays."
      ]
    },
    {
      "cell_type": "code",
      "metadata": {
        "id": "n0fVRespy-mG",
        "outputId": "3964e947-672c-4d31-e09b-daf947543aa8",
        "colab": {
          "base_uri": "https://localhost:8080/"
        }
      },
      "source": [
        "# Create two numpy arrays\n",
        "arr1 = np.array([1, 1, 1, 1, 1])\n",
        "arr2 = np.array([1, 1, 1, 1, 1])\n",
        "# Add them together\n",
        "print(arr1 + arr2)"
      ],
      "execution_count": null,
      "outputs": [
        {
          "output_type": "stream",
          "name": "stdout",
          "text": [
            "[2 2 2 2 2]\n"
          ]
        }
      ]
    },
    {
      "cell_type": "markdown",
      "metadata": {
        "id": "arqOSSMPzGNg"
      },
      "source": [
        "You should see the array printed with values added together. As long as both numpy arrays are the same size, you can add them together this way.\n",
        "\n",
        "###Try this!\n",
        "\n",
        "Can you create two arrays and add them together?"
      ]
    },
    {
      "cell_type": "code",
      "metadata": {
        "id": "9T6FrwsyzOo0",
        "outputId": "cdb8d572-8240-4937-bd3b-97074daab6ac",
        "colab": {
          "base_uri": "https://localhost:8080/"
        }
      },
      "source": [
        "# Add your code here:\n",
        "# Create two numpy arrays\n",
        "arr1 = np.array([1, 2, 3, 4, 5])\n",
        "arr2 = np.array([1, 1, 1, 1, 1])\n",
        "# Add them together\n",
        "print(arr1 + arr2)\n"
      ],
      "execution_count": null,
      "outputs": [
        {
          "output_type": "stream",
          "name": "stdout",
          "text": [
            "[2 3 4 5 6]\n"
          ]
        }
      ]
    },
    {
      "cell_type": "markdown",
      "metadata": {
        "id": "cniFIIzEzQ8N"
      },
      "source": [
        "###Multiplication\n",
        "\n",
        "The same goes for multiplication. Replacing the plus sign in the previous example gives you the product of both arrays.\n",
        "\n",
        "####Try this!\n",
        "\n",
        "1. Repeat your previous example using `*` instead of `+`\n"
      ]
    },
    {
      "cell_type": "code",
      "metadata": {
        "id": "yCl-3DnLzg7c",
        "outputId": "8659ac2c-74d2-4871-8e51-d5eb0450c889",
        "colab": {
          "base_uri": "https://localhost:8080/"
        }
      },
      "source": [
        "# Add your multiplication code here:\n",
        "# Create two numpy arrays\n",
        "arr1 = np.array([1, 2, 3, 4, 5])\n",
        "arr2 = np.array([3, 2, 4, 2, 3])\n",
        "# Multiply them together\n",
        "print(arr1 * arr2)"
      ],
      "execution_count": null,
      "outputs": [
        {
          "output_type": "stream",
          "name": "stdout",
          "text": [
            "[ 3  4 12  8 15]\n"
          ]
        }
      ]
    },
    {
      "cell_type": "markdown",
      "metadata": {
        "id": "5zO8TNsTzmU_"
      },
      "source": [
        "###Adding a Number to an Array\n",
        "\n",
        "You can add an individual number to the other values in an array using an addition operator ( + ).\n",
        "\n",
        "1. Run the cell below to see it in action."
      ]
    },
    {
      "cell_type": "code",
      "metadata": {
        "id": "M2tnbltbztc6",
        "outputId": "827ddf5f-a678-45be-b050-49dbec0a9194",
        "colab": {
          "base_uri": "https://localhost:8080/"
        }
      },
      "source": [
        "arr1 = np.array([1, 2, 3, 4, 5])\n",
        "\n",
        "arr2 = np.array([2, 3, 4, 5, 6])\n",
        "\n",
        "print(arr1+5)"
      ],
      "execution_count": null,
      "outputs": [
        {
          "output_type": "stream",
          "name": "stdout",
          "text": [
            "[ 6  7  8  9 10]\n"
          ]
        }
      ]
    },
    {
      "cell_type": "markdown",
      "metadata": {
        "id": "7w14Eg4azwZT"
      },
      "source": [
        "As you can see, you can use the + operator to combine two regular python lists into a single list. Numpy arrays let you use the + operator to add two same-size arrays together, adding each element in matching locations together. Using the + operator with a Numpy array and a single value will add that value to every element in the array."
      ]
    },
    {
      "cell_type": "markdown",
      "metadata": {
        "id": "B393Njoj1bA9"
      },
      "source": [
        "##Matplotlib\n",
        "You can use the Matplotlib library to make all types of graphs.\n",
        "\n",
        "**Matplotlib** handles large datasets and comes complete with standard graphing functions. It’s also very useful for visualizing values over time.\n",
        "\n",
        "Matplotlib is great for plotting and works hand-in-hand with NumPy.\n",
        "\n",
        "Importing Matplotlib is similar to importing NumPy, again using the  `as`  keyword to shorten the library name.\n",
        "\n",
        "1. Run the code cell below to import matplotlib\n",
        "\n",
        "\n"
      ]
    },
    {
      "cell_type": "code",
      "metadata": {
        "id": "aLd_snN61nFB"
      },
      "source": [
        "import matplotlib.pyplot as plt"
      ],
      "execution_count": 2,
      "outputs": []
    },
    {
      "cell_type": "markdown",
      "metadata": {
        "id": "RXeOSrYJ1p-r"
      },
      "source": [
        "###Graphing\n",
        "\n",
        "With Matplotplib imported, you can use it to plot data.\n",
        "\n",
        "Data visualization is a very important part of data analysis.\n",
        "\n",
        "Machine learning commonly uses a graph called a scatter plot. Seeing the data plotted in a graph enables you to find patterns and clusters to better understand the data.\n",
        "\n",
        "You can also use line plots that connect data points with straight lines. This will visualize the trend and which direction the data is going\n",
        "\n",
        "1. Make a new set of data.\n",
        "2. Run the cell to see the data plotted using `plt.plot()`\n"
      ]
    },
    {
      "cell_type": "code",
      "metadata": {
        "id": "ATVlxS3e12m5",
        "outputId": "1383275d-4831-4016-a199-8fdd2d42da58",
        "colab": {
          "base_uri": "https://localhost:8080/",
          "height": 430
        }
      },
      "source": [
        "# Fill in the data here\n",
        "x = [1, 2, 3, 4, 5]\n",
        "y = [1, 4, 9, 16, 25]\n",
        "\n",
        "# This code makes the graph and displays it\n",
        "plt.plot(x,y)\n",
        "plt.show()"
      ],
      "execution_count": 3,
      "outputs": [
        {
          "output_type": "display_data",
          "data": {
            "text/plain": [
              "<Figure size 640x480 with 1 Axes>"
            ],
            "image/png": "[encoded data removed]"
          },
          "metadata": {}
        }
      ]
    },
    {
      "cell_type": "markdown",
      "metadata": {
        "id": "7oPQ5c8K2HAq"
      },
      "source": [
        "Say you want to plot something other than a line, like points.\n",
        "\n",
        "To create a scatter plot, inside the  plt.plot()  function, pass in  \"ro\"  to modify the way your graph appears.\n",
        "\n",
        "3. Update the plot to show red points by running the cell below."
      ]
    },
    {
      "cell_type": "code",
      "metadata": {
        "id": "xecCRdst2KWD",
        "outputId": "73e126c8-7caa-4646-9c5c-79f1b79a1597",
        "colab": {
          "base_uri": "https://localhost:8080/",
          "height": 430
        }
      },
      "source": [
        " plt.plot(x, y, 'ro')\n",
        " plt.show()"
      ],
      "execution_count": 4,
      "outputs": [
        {
          "output_type": "display_data",
          "data": {
            "text/plain": [
              "<Figure size 640x480 with 1 Axes>"
            ],
            "image/png": "[encoded data removed]"
          },
          "metadata": {}
        }
      ]
    },
    {
      "cell_type": "markdown",
      "metadata": {
        "id": "udtBJRP-23IA"
      },
      "source": [
        "\n",
        "The `r` sets the color and the `o` sets the type of line to be drawn.\n",
        "- You can set the color to be red, blue, yellow, or green using `r`,`b`,`y`,`g`.\n",
        "\n",
        "- Line types allowed are  `o`, `-`, `*`, `1`, `2`, `3`, `4`, `.`\n",
        "\n",
        "####Try this!\n",
        "\n",
        "Can you make a graph with yellow stars as the points?"
      ]
    },
    {
      "cell_type": "code",
      "metadata": {
        "id": "lvSEq9V927Iz",
        "outputId": "2dc6e873-dbbe-414d-82ef-6e4204790710",
        "colab": {
          "base_uri": "https://localhost:8080/",
          "height": 430
        }
      },
      "source": [
        "# Plot the points\n",
        "x = [1, 2, 3, 4, 5]\n",
        "y = [1, 4, 9, 16, 25]\n",
        "plt.plot(x, y, 'y*')\n",
        "# Show the graph\n",
        "plt.show()"
      ],
      "execution_count": 5,
      "outputs": [
        {
          "output_type": "display_data",
          "data": {
            "text/plain": [
              "<Figure size 640x480 with 1 Axes>"
            ],
            "image/png": "[encoded data removed]"
          },
          "metadata": {}
        }
      ]
    },
    {
      "cell_type": "markdown",
      "metadata": {
        "id": "_mXG7bEH3ICI"
      },
      "source": [
        "###Graphing Equations\n",
        "\n",
        "Graphs are fundamental when it comes to mathematics.\n",
        "\n",
        "Equation outputs have patterns that make for interesting graphs when plotted out.\n",
        "\n",
        "To see these graphs, begin with a simple equation: y = x2.\n",
        "\n",
        "1. In the cell below, create a function called `function1` using the `def` keyword.\n",
        "2. Pass in `x` as an argyment\n",
        "3. Return the result of x squared.\n",
        "4. Run the cell to add your function to the notebook.\n",
        "\n",
        "<details> <summary> Click here for an example </summary>\n",
        "\n",
        "```\n",
        "def function1(x):\n",
        "  return x*x\n",
        "\n",
        "```\n",
        "</details>"
      ]
    },
    {
      "cell_type": "code",
      "metadata": {
        "id": "xUy5GGX63qcL"
      },
      "source": [
        "# Create your function here:\n",
        "def function1(x):\n",
        "  return x*x\n"
      ],
      "execution_count": 6,
      "outputs": []
    },
    {
      "cell_type": "markdown",
      "metadata": {
        "id": "6dPx48AB3xut"
      },
      "source": [
        "This function will square any value you pass it.\n",
        "\n",
        "The values returned by  function1  need to be stored somewhere.\n",
        "\n",
        "5. Create an empty list called `data` to store your values"
      ]
    },
    {
      "cell_type": "code",
      "metadata": {
        "id": "yi1KJhPS3_OT"
      },
      "source": [
        "# Create your empty list here:\n",
        "data=[]"
      ],
      "execution_count": 7,
      "outputs": []
    },
    {
      "cell_type": "markdown",
      "metadata": {
        "id": "Ddlo7eZL4Coc"
      },
      "source": [
        "Find and graph the squares of all the numbers from 1 to 100.\n",
        "\n",
        "Fill data with the squared values returned by  `function1` . Use a for loop to pass in all the numbers from 1 to 100.\n",
        "\n",
        "6. Create a for loop using the range method\n",
        "7. Use the lists append function to add it to the list called data.\n",
        "\n",
        "<details> <summary> Click here for an example </summary>\n",
        "\n",
        "```\n",
        "for i in range(100):\n",
        "  output = function1(i)\n",
        "  data.append(output)\n",
        "\n",
        "```\n",
        "</details>"
      ]
    },
    {
      "cell_type": "code",
      "metadata": {
        "id": "mdjHO9P94hTT"
      },
      "source": [
        "# Fill your list here:\n",
        "for i in range(100):\n",
        "  data.append(function1(i))\n",
        "\n"
      ],
      "execution_count": 8,
      "outputs": []
    },
    {
      "cell_type": "markdown",
      "metadata": {
        "id": "-H3DbqbA4Y4G"
      },
      "source": [
        "8. Run the cell below to see your data plotted on a graph."
      ]
    },
    {
      "cell_type": "code",
      "metadata": {
        "id": "PFOX4VqM4j_z",
        "outputId": "bfecb891-9215-40f7-92e8-f24bbdbdb486",
        "colab": {
          "base_uri": "https://localhost:8080/",
          "height": 430
        }
      },
      "source": [
        "plt.plot(data)\n",
        "plt.show()"
      ],
      "execution_count": 9,
      "outputs": [
        {
          "output_type": "display_data",
          "data": {
            "text/plain": [
              "<Figure size 640x480 with 1 Axes>"
            ],
            "image/png": "[encoded data removed]"
          },
          "metadata": {}
        }
      ]
    },
    {
      "cell_type": "markdown",
      "metadata": {
        "id": "LkOZuk2D4om2"
      },
      "source": [
        "###The Power of NumPy\n",
        "\n",
        "You've graphed all the values from 1 to 100 using a for loop, but you can also do it using a NumPy function for quicker and cleaner code.\n",
        "\n",
        "Remember the range function Python comes preloaded with?\n",
        "\n",
        "NumPy has a  np.arange(x)  function, which produces into a NumPy array from 0 to x.\n",
        "\n",
        "This function is noninclusive, so it stops right before x. Calling  np.arange(100)  would return numbers from 0 to 99.\n",
        "\n",
        "1. Run this cell to see an example:"
      ]
    },
    {
      "cell_type": "code",
      "metadata": {
        "id": "RMSTK4_q49I9",
        "outputId": "0ec0ffdd-452d-4adc-f3c2-601ad6bb8c49",
        "colab": {
          "base_uri": "https://localhost:8080/"
        }
      },
      "source": [
        "data = np.arange(100)\n",
        "print(data)"
      ],
      "execution_count": 17,
      "outputs": [
        {
          "output_type": "stream",
          "name": "stdout",
          "text": [
            "[ 0  1  2  3  4  5  6  7  8  9 10 11 12 13 14 15 16 17 18 19 20 21 22 23\n",
            " 24 25 26 27 28 29 30 31 32 33 34 35 36 37 38 39 40 41 42 43 44 45 46 47\n",
            " 48 49 50 51 52 53 54 55 56 57 58 59 60 61 62 63 64 65 66 67 68 69 70 71\n",
            " 72 73 74 75 76 77 78 79 80 81 82 83 84 85 86 87 88 89 90 91 92 93 94 95\n",
            " 96 97 98 99]\n"
          ]
        }
      ]
    },
    {
      "cell_type": "markdown",
      "metadata": {
        "id": "Nf6hy8BX5P1g"
      },
      "source": [
        "\n",
        "Because NumPy arrays can have one operation performed on them rather than having to make a for loop to iterate through the whole array, you can pass it into a function as if it were a single value.\n",
        "\n",
        "2. Pass the array `data` into `function1`\n",
        "\n",
        "<details><summary> Click for an example</summary>\n",
        "\n",
        "```\n",
        "output = function1(data)\n",
        "```\n",
        "</details>"
      ]
    },
    {
      "cell_type": "code",
      "metadata": {
        "id": "IW1yi_CS5hEa"
      },
      "source": [
        "# Set output equal to the returned data from putting data into function1\n",
        "output = function1(data)"
      ],
      "execution_count": 18,
      "outputs": []
    },
    {
      "cell_type": "markdown",
      "metadata": {
        "id": "1cEGIFCn51Jb"
      },
      "source": [
        "3. Use `plt.plot()` and `plt.show` to display the graph\n",
        "\n",
        "<details><summary> Click for an example</summary>\n",
        "\n",
        "```\n",
        "plt.plot(output)\n",
        "plt.show()\n",
        "```\n",
        "</details>"
      ]
    },
    {
      "cell_type": "code",
      "metadata": {
        "id": "pK18iAfY6GQL",
        "outputId": "b3abb138-487f-4afc-bb4d-3da9f735f9a4",
        "colab": {
          "base_uri": "https://localhost:8080/",
          "height": 430
        }
      },
      "source": [
        "# Add your code to display the graph here:\n",
        "plt.plot(output)\n",
        "plt.show()"
      ],
      "execution_count": 19,
      "outputs": [
        {
          "output_type": "display_data",
          "data": {
            "text/plain": [
              "<Figure size 640x480 with 1 Axes>"
            ],
            "image/png": "[encoded data removed]"
          },
          "metadata": {}
        }
      ]
    },
    {
      "cell_type": "markdown",
      "metadata": {
        "id": "V0_190Z56Kf0"
      },
      "source": [
        "####Try this!\n",
        "\n",
        "Can you create a graph for a parabola or circle? Try to create a graph for the equation y=x^3 + x^2 + x."
      ]
    },
    {
      "cell_type": "code",
      "metadata": {
        "id": "Kxc1eES56VLh",
        "outputId": "3633c31a-bc35-4675-8a34-36b74dd5ea6a",
        "colab": {
          "base_uri": "https://localhost:8080/",
          "height": 430
        }
      },
      "source": [
        "# Add your code to plot a higher order function here:\n",
        "def function2(x):\n",
        "  return x*x*x + x*x + x\n",
        "\n",
        "data = np.arange(50)\n",
        "output = function2(data)\n",
        "#print(output)\n",
        "plt.plot(output, 'r*')\n",
        "plt.show()\n"
      ],
      "execution_count": 24,
      "outputs": [
        {
          "output_type": "display_data",
          "data": {
            "text/plain": [
              "<Figure size 640x480 with 1 Axes>"
            ],
            "image/png": "[encoded data removed]"
          },
          "metadata": {}
        }
      ]
    }
  ]
}