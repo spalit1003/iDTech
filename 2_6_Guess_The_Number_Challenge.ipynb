{
  "nbformat": 4,
  "nbformat_minor": 0,
  "metadata": {
    "colab": {
      "name": "2.6_Guess_The_Number_Challenge.ipynb",
      "provenance": [],
      "include_colab_link": true
    },
    "kernelspec": {
      "name": "python3",
      "display_name": "Python 3"
    },
    "language_info": {
      "name": "python"
    }
  },
  "cells": [
    {
      "cell_type": "markdown",
      "metadata": {
        "id": "view-in-github",
        "colab_type": "text"
      },
      "source": [
        "<a href=\"https://colab.research.google.com/github/spalit1003/iDTech/blob/main/2_6_Guess_The_Number_Challenge.ipynb\" target=\"_parent\"><img src=\"https://colab.research.google.com/assets/colab-badge.svg\" alt=\"Open In Colab\"/></a>"
      ]
    },
    {
      "cell_type": "markdown",
      "metadata": {
        "id": "E1BtiRZFTl8b"
      },
      "source": [
        "#Number Guessing Game\n",
        "\n",
        "In this notebook you are challenged to use your knowledge of loops, conditionals, input, random numbers, and printing to create a number guessing game.\n",
        "\n",
        "In this challenge, you'll be making a guess the number game. Your program will generate a random number and then ask the user to guess what it is.\n",
        "\n",
        "When they guess wrong, your program will tell them if they are too high or too low.\n",
        "\n",
        "###Core Freatures Breakdown\n",
        "- Generate a random number between 1 and 100.\n",
        "\n",
        "- Let the user guess what the number is until they get it right.\n",
        "\n",
        "- Give the user feedback after each guess- tell them if their guess is too high, too low, or just right.\n",
        "\n",
        "- Begin the game again.\n"
      ]
    },
    {
      "cell_type": "code",
      "metadata": {
        "id": "-j0-ot-5TlKw",
        "outputId": "84b4b816-645b-43e5-e523-5c8f65bb0f99",
        "colab": {
          "base_uri": "https://localhost:8080/"
        }
      },
      "source": [
        "# Add your code here:\n",
        "import random\n",
        "\n",
        "def guess_the_number():\n",
        "    random_number = random.randint(1, 100)\n",
        "    guessed = False\n",
        "\n",
        "    while not guessed:\n",
        "        user_guess = int(input(\"Guess a number between 1 and 100: \"))\n",
        "\n",
        "        if user_guess < random_number:\n",
        "            print(\"Too low!\")\n",
        "        elif user_guess > random_number:\n",
        "            print(\"Too high!\")\n",
        "        else:\n",
        "            print(\"Congratulations! You guessed the number correctly!\")\n",
        "            guessed = True\n",
        "\n",
        "    play_again = input(\"Do you want to play again? (yes/no): \")\n",
        "    if play_again.lower() == \"yes\":\n",
        "        guess_the_number()\n",
        "    else:\n",
        "        print(\"Thank you for playing!\")\n",
        "\n",
        "guess_the_number()\n"
      ],
      "execution_count": 1,
      "outputs": [
        {
          "output_type": "stream",
          "name": "stdout",
          "text": [
            "Guess a number between 1 and 100: 4\n",
            "Too low!\n",
            "Guess a number between 1 and 100: 45\n",
            "Too high!\n",
            "Guess a number between 1 and 100: 23\n",
            "Too high!\n",
            "Guess a number between 1 and 100: 15\n",
            "Too high!\n",
            "Guess a number between 1 and 100: 8\n",
            "Too low!\n",
            "Guess a number between 1 and 100: 11\n",
            "Too low!\n",
            "Guess a number between 1 and 100: 14\n",
            "Too high!\n",
            "Guess a number between 1 and 100: 13\n",
            "Too high!\n",
            "Guess a number between 1 and 100: 12\n",
            "Congratulations! You guessed the number correctly!\n",
            "Do you want to play again? (yes/no): no\n",
            "Thank you for playing!\n"
          ]
        }
      ]
    },
    {
      "cell_type": "markdown",
      "metadata": {
        "id": "ogeubfG_UYxb"
      },
      "source": [
        "###Bonus Features\n",
        "\n",
        "- Create a variable to keep track of the number of gueses\n",
        "\n",
        "- Add another loop so that the game can be played a set number of times\n",
        "\n",
        "- Save all the number of guesses to a list, and tell the user what the best score is.\n",
        "\n",
        "- Add a second death number that the user is trying to avoid, and if the user guesses that number the game is over.\n",
        "\n",
        "- Add a function for code that you re-use often, like getting user input or generating the random number\n"
      ]
    }
  ]
}