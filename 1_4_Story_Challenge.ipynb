{
  "nbformat": 4,
  "nbformat_minor": 0,
  "metadata": {
    "colab": {
      "name": "1.4_Story_Challenge.ipynb",
      "provenance": [],
      "include_colab_link": true
    },
    "kernelspec": {
      "name": "python3",
      "display_name": "Python 3"
    },
    "language_info": {
      "name": "python"
    }
  },
  "cells": [
    {
      "cell_type": "markdown",
      "metadata": {
        "id": "view-in-github",
        "colab_type": "text"
      },
      "source": [
        "<a href=\"https://colab.research.google.com/github/spalit1003/iDTech/blob/main/1_4_Story_Challenge.ipynb\" target=\"_parent\"><img src=\"https://colab.research.google.com/assets/colab-badge.svg\" alt=\"Open In Colab\"/></a>"
      ]
    },
    {
      "cell_type": "markdown",
      "metadata": {
        "id": "pmgS0fuOYTwM"
      },
      "source": [
        "#Story Challenge\n",
        "\n",
        "In this notebook you will create a story that prints out to the user. You can use multiple print statements or one huge one, it's up to you!"
      ]
    },
    {
      "cell_type": "code",
      "metadata": {
        "id": "uwHRylCsYDFQ",
        "outputId": "63961d7c-d518-4623-a148-3d33c9795d58",
        "colab": {
          "base_uri": "https://localhost:8080/"
        }
      },
      "source": [
        "# Add your story code here:\n",
        "adjective1 = input(\"Enter an adjective: \")\n",
        "animal = input(\"Enter an animal: \")\n",
        "name = input(\"Enter a name: \")\n",
        "verb1 = input(\"Enter a verb: \")\n",
        "adjective2 = input(\"Enter another adjective: \")\n",
        "noun = input(\"Enter a noun: \")\n",
        "verb2 = input(\"Enter another verb: \")\n",
        "\n",
        "print(\"Once upon a time, there was a \",adjective1, animal, \" named \", name, \".\")\n",
        "print(name, \"loved to \", verb1, \"in the\", adjective2, noun, \".\")\n",
        "print(\"One day, \", name, \" decided to \", verb2, \" all around the place.\")\n",
        "print(\"And so, the adventurous journey of\", name, \"began!\")\n"
      ],
      "execution_count": 6,
      "outputs": [
        {
          "output_type": "stream",
          "name": "stdout",
          "text": [
            "Enter an adjective: beautiful\n",
            "Enter an animal: cat\n",
            "Enter a name: Arko\n",
            "Enter a verb: dance\n",
            "Enter another adjective: handsome\n",
            "Enter a noun: hat\n",
            "Enter another verb: run\n",
            "Once upon a time, there was a  beautiful cat  named  Arko .\n",
            "Arko loved to  dance in the handsome hat  .\n",
            "One day,  Arko  decided to  run  all around the place.\n",
            "And so, the adventurous journey of Arko began!\n"
          ]
        }
      ]
    },
    {
      "cell_type": "markdown",
      "metadata": {
        "id": "TpoPxHD2Yr4H"
      },
      "source": [
        "###Bonus Challenge\n",
        "\n",
        "If you want to step up your story, use user input and variables to create a mad libs style project.\n",
        "\n",
        "Get some verbs, nouns, adjectives, and names from the user and insert them into your story.\n"
      ]
    },
    {
      "cell_type": "code",
      "metadata": {
        "id": "ySlrVAXZY_Oh"
      },
      "source": [
        "# Get user input for the placeholder words. Make sure to save them to variables!\n",
        "\n",
        "# Print out the updated story using the input from the user.\n",
        "\n"
      ],
      "execution_count": null,
      "outputs": []
    },
    {
      "cell_type": "markdown",
      "metadata": {
        "id": "n3cMjYJqiM_h"
      },
      "source": [
        "###Extra Bonus Challenge\n",
        "\n",
        "Create a choose your own adventure story that gets user input to choose a path through the story. Use conditionals to print different stories depending on what the user wants to do."
      ]
    }
  ]
}